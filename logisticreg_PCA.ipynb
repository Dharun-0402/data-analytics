{
  "nbformat": 4,
  "nbformat_minor": 0,
  "metadata": {
    "colab": {
      "name": "logisticreg PCA",
      "provenance": [],
      "collapsed_sections": [],
      "authorship_tag": "ABX9TyNEiR8Fx13USXjbKUeWbezw",
      "include_colab_link": true
    },
    "kernelspec": {
      "name": "python3",
      "display_name": "Python 3"
    },
    "language_info": {
      "name": "python"
    }
  },
  "cells": [
    {
      "cell_type": "markdown",
      "metadata": {
        "id": "view-in-github",
        "colab_type": "text"
      },
      "source": [
        "<a href=\"https://colab.research.google.com/github/Dharun-0402/data-analytics/blob/main/logisticreg_PCA.ipynb\" target=\"_parent\"><img src=\"https://colab.research.google.com/assets/colab-badge.svg\" alt=\"Open In Colab\"/></a>"
      ]
    },
    {
      "cell_type": "code",
      "execution_count": 1,
      "metadata": {
        "id": "0K-gFn84R4qs"
      },
      "outputs": [],
      "source": [
        "import sklearn\n",
        "from sklearn.datasets import load_iris"
      ]
    },
    {
      "cell_type": "code",
      "source": [
        "df=load_iris()"
      ],
      "metadata": {
        "id": "4FsKhAokSDeT"
      },
      "execution_count": 2,
      "outputs": []
    },
    {
      "cell_type": "code",
      "source": [
        "df.keys"
      ],
      "metadata": {
        "colab": {
          "base_uri": "https://localhost:8080/"
        },
        "id": "RMlHQQRbSH9c",
        "outputId": "d62dddff-f9a7-4251-e949-07f44700bacf"
      },
      "execution_count": 5,
      "outputs": [
        {
          "output_type": "execute_result",
          "data": {
            "text/plain": [
              "<function Bunch.keys>"
            ]
          },
          "metadata": {},
          "execution_count": 5
        }
      ]
    },
    {
      "cell_type": "code",
      "source": [
        "x=df.data"
      ],
      "metadata": {
        "id": "CYTg2HFNSJ1G"
      },
      "execution_count": 6,
      "outputs": []
    },
    {
      "cell_type": "code",
      "source": [
        "y=df.target"
      ],
      "metadata": {
        "id": "dNEHVw5SSl2V"
      },
      "execution_count": 11,
      "outputs": []
    },
    {
      "cell_type": "code",
      "source": [
        "from sklearn.model_selection import train_test_split"
      ],
      "metadata": {
        "id": "efssIa4fSqqA"
      },
      "execution_count": 13,
      "outputs": []
    },
    {
      "cell_type": "code",
      "source": [
        "xtrain,xtest,ytrain,ytest=train_test_split(x,y,test_size=0.30,random_state=0)\n"
      ],
      "metadata": {
        "id": "Vbeektj_SygD"
      },
      "execution_count": 14,
      "outputs": []
    },
    {
      "cell_type": "code",
      "source": [
        "xtrain.shape,xtest.shape,ytrain.shape,ytest.shape"
      ],
      "metadata": {
        "colab": {
          "base_uri": "https://localhost:8080/"
        },
        "id": "c3LFhHESTvQQ",
        "outputId": "c67528a3-a55d-4705-c195-db91c55d1cc7"
      },
      "execution_count": 15,
      "outputs": [
        {
          "output_type": "execute_result",
          "data": {
            "text/plain": [
              "((105, 4), (45, 4), (105,), (45,))"
            ]
          },
          "metadata": {},
          "execution_count": 15
        }
      ]
    },
    {
      "cell_type": "code",
      "source": [
        "from sklearn.linear_model import LogisticRegression\n",
        "model=LogisticRegression()"
      ],
      "metadata": {
        "id": "Dsy2i5TaUS0r"
      },
      "execution_count": 25,
      "outputs": []
    },
    {
      "cell_type": "code",
      "source": [
        "model.fit(xtrain,ytrain)"
      ],
      "metadata": {
        "colab": {
          "base_uri": "https://localhost:8080/"
        },
        "id": "mLMNtXJyUlW6",
        "outputId": "86e536bc-10ac-4e9c-9789-9fc8b39876f7"
      },
      "execution_count": 26,
      "outputs": [
        {
          "output_type": "execute_result",
          "data": {
            "text/plain": [
              "LogisticRegression()"
            ]
          },
          "metadata": {},
          "execution_count": 26
        }
      ]
    },
    {
      "cell_type": "code",
      "source": [
        "pre=model.predict (xtest)\n",
        "model.predict_proba (xtest)"
      ],
      "metadata": {
        "colab": {
          "base_uri": "https://localhost:8080/"
        },
        "id": "yCNvyXBlUr52",
        "outputId": "bf17e4f3-1703-4192-80d3-2c493fcd921a"
      },
      "execution_count": 27,
      "outputs": [
        {
          "output_type": "execute_result",
          "data": {
            "text/plain": [
              "array([[1.31706500e-04, 5.98487863e-02, 9.40019507e-01],\n",
              "       [1.33560305e-02, 9.57042398e-01, 2.96015716e-02],\n",
              "       [9.82927069e-01, 1.70728750e-02, 5.56552784e-08],\n",
              "       [1.60475231e-06, 2.60797382e-02, 9.73918657e-01],\n",
              "       [9.68275977e-01, 3.17237870e-02, 2.35580383e-07],\n",
              "       [2.47741185e-06, 6.75427973e-03, 9.93243243e-01],\n",
              "       [9.80358972e-01, 1.96409253e-02, 1.03121279e-07],\n",
              "       [3.00889185e-03, 7.50152838e-01, 2.46838270e-01],\n",
              "       [1.62299829e-03, 7.41285889e-01, 2.57091113e-01],\n",
              "       [2.11382615e-02, 9.32799336e-01, 4.60624024e-02],\n",
              "       [1.02516222e-04, 1.57157862e-01, 8.42739621e-01],\n",
              "       [7.26634294e-03, 8.08697832e-01, 1.84035825e-01],\n",
              "       [4.34725649e-03, 7.83988017e-01, 2.11664726e-01],\n",
              "       [3.23107741e-03, 7.61208203e-01, 2.35560719e-01],\n",
              "       [4.09199518e-03, 7.03026910e-01, 2.92881095e-01],\n",
              "       [9.81573473e-01, 1.84264433e-02, 8.41349989e-08],\n",
              "       [7.01108653e-03, 7.50157089e-01, 2.42831825e-01],\n",
              "       [1.20104312e-02, 8.31518802e-01, 1.56470767e-01],\n",
              "       [9.65461853e-01, 3.45378359e-02, 3.11193572e-07],\n",
              "       [9.81135187e-01, 1.88647278e-02, 8.54092497e-08],\n",
              "       [8.83807425e-04, 1.93958376e-01, 8.05157816e-01],\n",
              "       [1.06511931e-02, 6.98589369e-01, 2.90759438e-01],\n",
              "       [9.41813637e-01, 5.81848700e-02, 1.49339392e-06],\n",
              "       [9.74091671e-01, 2.59080781e-02, 2.50953672e-07],\n",
              "       [1.46226788e-03, 4.31295487e-01, 5.67242245e-01],\n",
              "       [9.93623541e-01, 6.37644434e-03, 1.49740324e-08],\n",
              "       [9.47224042e-01, 5.27743830e-02, 1.57457211e-06],\n",
              "       [1.11665747e-02, 8.96758437e-01, 9.20749887e-02],\n",
              "       [1.43551050e-01, 8.49015436e-01, 7.43351413e-03],\n",
              "       [9.58858972e-01, 4.11403908e-02, 6.36808830e-07],\n",
              "       [1.12318668e-04, 1.20430997e-01, 8.79456684e-01],\n",
              "       [1.23022445e-02, 6.68292270e-01, 3.19405486e-01],\n",
              "       [9.65858407e-01, 3.41413776e-02, 2.15278842e-07],\n",
              "       [1.37179791e-03, 3.61179147e-01, 6.37449055e-01],\n",
              "       [1.76633960e-05, 3.70570383e-02, 9.62925298e-01],\n",
              "       [4.90686847e-02, 8.72312412e-01, 7.86189035e-02],\n",
              "       [9.40784207e-01, 5.92152588e-02, 5.34604593e-07],\n",
              "       [6.49666284e-04, 3.08766119e-01, 6.90584215e-01],\n",
              "       [1.82161978e-02, 8.55201097e-01, 1.26582706e-01],\n",
              "       [2.30450029e-02, 9.29719259e-01, 4.72357384e-02],\n",
              "       [4.21988215e-05, 8.12519383e-02, 9.18705863e-01],\n",
              "       [9.79914465e-01, 2.00854241e-02, 1.11274994e-07],\n",
              "       [1.76203115e-04, 1.55994621e-01, 8.43829176e-01],\n",
              "       [9.60729377e-01, 3.92696853e-02, 9.37947243e-07],\n",
              "       [9.67043752e-01, 3.29560755e-02, 1.72049057e-07]])"
            ]
          },
          "metadata": {},
          "execution_count": 27
        }
      ]
    },
    {
      "cell_type": "code",
      "source": [
        "from sklearn.metrics import accuracy_score,classification_report,confusion_matrix\n",
        "accuracy_score(ytest,pre)"
      ],
      "metadata": {
        "colab": {
          "base_uri": "https://localhost:8080/"
        },
        "id": "yHicYmrwVP1S",
        "outputId": "eb9deda5-3e96-4856-d6a6-2b976c70e1b2"
      },
      "execution_count": 28,
      "outputs": [
        {
          "output_type": "execute_result",
          "data": {
            "text/plain": [
              "0.9777777777777777"
            ]
          },
          "metadata": {},
          "execution_count": 28
        }
      ]
    },
    {
      "cell_type": "code",
      "source": [
        "classification_report(ytest,pre)"
      ],
      "metadata": {
        "colab": {
          "base_uri": "https://localhost:8080/",
          "height": 70
        },
        "id": "uixoJZlbW4iA",
        "outputId": "1ff8cf6e-e586-4c49-8f16-333c0c975f4f"
      },
      "execution_count": 29,
      "outputs": [
        {
          "output_type": "execute_result",
          "data": {
            "text/plain": [
              "'              precision    recall  f1-score   support\\n\\n           0       1.00      1.00      1.00        16\\n           1       1.00      0.94      0.97        18\\n           2       0.92      1.00      0.96        11\\n\\n    accuracy                           0.98        45\\n   macro avg       0.97      0.98      0.98        45\\nweighted avg       0.98      0.98      0.98        45\\n'"
            ],
            "application/vnd.google.colaboratory.intrinsic+json": {
              "type": "string"
            }
          },
          "metadata": {},
          "execution_count": 29
        }
      ]
    },
    {
      "cell_type": "code",
      "source": [
        "confusion_matrix(ytest,pre)"
      ],
      "metadata": {
        "colab": {
          "base_uri": "https://localhost:8080/"
        },
        "id": "fTL2OjXLYP6c",
        "outputId": "287d81b9-8572-43a7-9457-475bffec6df6"
      },
      "execution_count": 30,
      "outputs": [
        {
          "output_type": "execute_result",
          "data": {
            "text/plain": [
              "array([[16,  0,  0],\n",
              "       [ 0, 17,  1],\n",
              "       [ 0,  0, 11]])"
            ]
          },
          "metadata": {},
          "execution_count": 30
        }
      ]
    },
    {
      "cell_type": "code",
      "source": [
        "from sklearn.decomposition import PCA\n",
        "pc=PCA(n_components=.95)"
      ],
      "metadata": {
        "id": "9PIh0XuYYW-b"
      },
      "execution_count": 31,
      "outputs": []
    },
    {
      "cell_type": "code",
      "source": [
        "pc.fit(xtrain)"
      ],
      "metadata": {
        "colab": {
          "base_uri": "https://localhost:8080/"
        },
        "id": "iuIVmiqLZpw-",
        "outputId": "373722da-1e6f-4163-ce4a-a820cf0a2223"
      },
      "execution_count": 32,
      "outputs": [
        {
          "output_type": "execute_result",
          "data": {
            "text/plain": [
              "PCA(n_components=0.95)"
            ]
          },
          "metadata": {},
          "execution_count": 32
        }
      ]
    },
    {
      "cell_type": "code",
      "source": [
        "x_train_transfomed=pc.transform(xtrain)"
      ],
      "metadata": {
        "id": "RZYDf3XMZuGa"
      },
      "execution_count": 33,
      "outputs": []
    },
    {
      "cell_type": "code",
      "source": [
        "print(x_train_transfomed)"
      ],
      "metadata": {
        "colab": {
          "base_uri": "https://localhost:8080/"
        },
        "id": "RGGgxtypZ5Jc",
        "outputId": "66fa69bf-9bda-4d55-bec3-8c27c67f6d0c"
      },
      "execution_count": 34,
      "outputs": [
        {
          "output_type": "stream",
          "name": "stdout",
          "text": [
            "[[-0.63232821 -1.26545546]\n",
            " [ 1.86026116 -0.0121644 ]\n",
            " [ 2.33771697  0.24090294]\n",
            " [ 1.18895165 -0.80972518]\n",
            " [ 2.22289331 -0.31972369]\n",
            " [-0.06107111 -0.59599181]\n",
            " [ 3.00314688  0.58256709]\n",
            " [ 1.01283077  0.2537618 ]\n",
            " [-0.17764817 -0.71549087]\n",
            " [ 1.29275779 -0.25322577]\n",
            " [ 1.34935406 -0.18815532]\n",
            " [ 0.40061492 -1.19543001]\n",
            " [ 1.42639154 -0.43126118]\n",
            " [ 1.21171098  0.63256942]\n",
            " [ 1.67636089  0.02534218]\n",
            " [ 0.72295033  0.17874934]\n",
            " [-2.68209086 -0.14140641]\n",
            " [ 1.31021647 -0.61064053]\n",
            " [ 0.25338762 -0.51766116]\n",
            " [-0.2702904  -0.25665173]\n",
            " [ 0.05797056 -0.69426981]\n",
            " [ 0.79956717 -0.06150372]\n",
            " [ 2.53760985  0.48373469]\n",
            " [-2.61655382  0.64163994]\n",
            " [-3.32609967 -0.42829832]\n",
            " [ 1.70697835 -0.27300131]\n",
            " [ 0.23633093 -0.22012669]\n",
            " [-2.389488    0.44095671]\n",
            " [-2.43830487  1.40186666]\n",
            " [ 1.38644767  0.44925415]\n",
            " [-2.84273474 -0.24783656]\n",
            " [ 1.29315978 -0.31310606]\n",
            " [-1.01628419 -0.7428001 ]\n",
            " [-2.91108926 -0.01188253]\n",
            " [ 0.83857701 -0.59320235]\n",
            " [ 2.84809203  0.70583026]\n",
            " [ 0.27846518 -0.30435494]\n",
            " [-2.8819051  -0.17139735]\n",
            " [ 2.53477602  0.26246762]\n",
            " [ 2.34791187  0.30776325]\n",
            " [ 2.25898839 -0.10229026]\n",
            " [ 2.02776683 -0.27012903]\n",
            " [-2.61318795  0.5739706 ]\n",
            " [-2.70108012  0.08496871]\n",
            " [ 1.57853163  0.19460771]\n",
            " [ 2.194499    0.27598245]\n",
            " [-2.96436878 -0.88596534]\n",
            " [ 1.81558366  0.0770001 ]\n",
            " [-2.80836355 -0.11777776]\n",
            " [ 1.23577365 -0.81436784]\n",
            " [ 2.02712338  0.30489097]\n",
            " [-3.09487812 -0.26045955]\n",
            " [-2.80860501  0.39736195]\n",
            " [ 2.30832087  0.38705526]\n",
            " [-2.7287337   0.37552316]\n",
            " [-3.08221861 -0.4113763 ]\n",
            " [-2.34952778  0.80070883]\n",
            " [ 0.07063007 -0.84518656]\n",
            " [ 2.48051431  0.20867623]\n",
            " [ 3.3196496   0.44597348]\n",
            " [-2.76453819  0.38429304]\n",
            " [-2.72952355 -0.06066817]\n",
            " [-2.72047138  0.37122413]\n",
            " [ 0.54030419 -0.43485966]\n",
            " [ 0.81791298  0.28714116]\n",
            " [-2.9536255   0.13222601]\n",
            " [-2.38895595  0.15202031]\n",
            " [ 0.62779437  0.11402252]\n",
            " [-2.48821852  0.46011452]\n",
            " [ 3.70982392  0.13394334]\n",
            " [-0.8657238  -0.98931387]\n",
            " [ 3.17607876  1.28227631]\n",
            " [ 0.84932029  0.424989  ]\n",
            " [-2.71541439  0.88985385]\n",
            " [ 1.07538758 -0.19567025]\n",
            " [-2.70236703  1.23500872]\n",
            " [ 3.41941143  0.34786729]\n",
            " [-2.66255321  0.58354951]\n",
            " [-2.72615768 -0.1283375 ]\n",
            " [ 2.75937724  0.27956146]\n",
            " [-2.78961575  0.17098683]\n",
            " [ 2.05946472  0.09392212]\n",
            " [ 0.19962518 -0.36146454]\n",
            " [ 0.037548   -0.32906601]\n",
            " [-0.4061473  -0.37597897]\n",
            " [ 1.81854754  0.06921105]\n",
            " [ 1.85924849  0.12381147]\n",
            " [ 1.19800382 -0.37783288]\n",
            " [ 1.47408203  0.21312831]\n",
            " [-2.60028698 -0.09208586]\n",
            " [-0.29862241 -0.68837221]\n",
            " [ 2.22940223  0.11710485]\n",
            " [ 1.31021647 -0.61064053]\n",
            " [-2.67303869  0.29048588]\n",
            " [ 0.95877775  0.1837551 ]\n",
            " [ 0.14922861 -0.27293725]\n",
            " [ 1.02499101 -0.10714297]\n",
            " [ 0.71320558 -0.41946597]\n",
            " [-2.6987597   0.65219967]\n",
            " [-2.62041897  0.49932125]\n",
            " [-2.76532804 -0.05189829]\n",
            " [ 1.87628654 -0.23075048]\n",
            " [ 0.13627852 -0.34822381]\n",
            " [ 3.42772287  1.08491128]\n",
            " [-2.93423424 -0.1540294 ]]\n"
          ]
        }
      ]
    },
    {
      "cell_type": "code",
      "source": [
        "x_test_transfomed=pc.transform(xtest)"
      ],
      "metadata": {
        "id": "O79-pdfGZ7HA"
      },
      "execution_count": 35,
      "outputs": []
    },
    {
      "cell_type": "code",
      "source": [
        "x_test_transfomed"
      ],
      "metadata": {
        "colab": {
          "base_uri": "https://localhost:8080/"
        },
        "id": "m3Duz83baArf",
        "outputId": "d843ded0-fdf7-4a31-a1e8-ade4238fe8f7"
      },
      "execution_count": 36,
      "outputs": [
        {
          "output_type": "execute_result",
          "data": {
            "text/plain": [
              "array([[ 1.48290917e+00, -5.79031544e-01],\n",
              "       [ 1.58231664e-01, -5.82387982e-01],\n",
              "       [-2.65789822e+00,  1.16205952e+00],\n",
              "       [ 2.84984543e+00,  2.64702689e-01],\n",
              "       [-2.71077575e+00,  2.28096421e-01],\n",
              "       [ 2.44227798e+00, -6.37012546e-02],\n",
              "       [-2.85164052e+00,  3.31482478e-01],\n",
              "       [ 1.14063404e+00,  3.61172780e-01],\n",
              "       [ 1.24672562e+00,  1.87608217e-01],\n",
              "       [ 2.65403677e-01, -9.35579051e-02],\n",
              "       [ 1.67658371e+00, -5.46825020e-01],\n",
              "       [ 8.50753593e-01,  2.86160326e-01],\n",
              "       [ 8.25787452e-01, -2.13229489e-01],\n",
              "       [ 9.98979424e-01,  2.83675090e-02],\n",
              "       [ 8.91066681e-01, -1.55310871e-01],\n",
              "       [-2.88214656e+00,  3.43742366e-01],\n",
              "       [ 7.18794606e-01, -1.89772653e-01],\n",
              "       [ 3.56515328e-01, -6.83436678e-01],\n",
              "       [-2.81029612e+00, -1.88937104e-01],\n",
              "       [-2.69020679e+00,  8.74103953e-01],\n",
              "       [ 1.09387758e+00, -6.32033396e-01],\n",
              "       [ 5.61516602e-01, -3.63872131e-01],\n",
              "       [-2.44557087e+00,  2.99223727e-02],\n",
              "       [-2.99071911e+00, -5.05183454e-01],\n",
              "       [ 1.16352122e+00, -2.21808078e-01],\n",
              "       [-3.30023227e+00,  2.21199219e-01],\n",
              "       [-2.28606971e+00,  5.01384505e-01],\n",
              "       [ 5.52320243e-01, -1.07564079e-02],\n",
              "       [-8.21656981e-01, -1.00238278e+00],\n",
              "       [-2.55399701e+00,  1.92207883e-01],\n",
              "       [ 1.81619435e+00,  9.04511165e-04],\n",
              "       [ 4.86042477e-01, -4.88651058e-01],\n",
              "       [-2.64163138e+00,  4.28333723e-01],\n",
              "       [ 1.19829440e+00, -1.51629572e-01],\n",
              "       [ 2.06357133e+00, -2.78898908e-01],\n",
              "       [-1.17265392e-01, -7.20942549e-01],\n",
              "       [-2.26579133e+00,  9.21188725e-01],\n",
              "       [ 1.27827712e+00, -4.59551963e-01],\n",
              "       [ 4.19218532e-01, -1.21657400e-01],\n",
              "       [ 1.29047506e-01, -4.22873167e-01],\n",
              "       [ 2.08088582e+00,  1.48694354e-01],\n",
              "       [-2.98166693e+00, -7.32911583e-02],\n",
              "       [ 1.84322311e+00,  3.42397557e-01],\n",
              "       [-2.48871779e+00,  2.50126501e-01],\n",
              "       [-2.57881676e+00,  7.04029399e-01]])"
            ]
          },
          "metadata": {},
          "execution_count": 36
        }
      ]
    },
    {
      "cell_type": "code",
      "source": [
        "nm=LogisticRegression(penalty='l1',solver='liblinear')\n",
        "nm.fit(x_train_transfomed,ytrain)"
      ],
      "metadata": {
        "colab": {
          "base_uri": "https://localhost:8080/"
        },
        "id": "t0JME-rsaDqg",
        "outputId": "0cf461c9-9cbb-434a-83d8-cd3a0a70526f"
      },
      "execution_count": 37,
      "outputs": [
        {
          "output_type": "execute_result",
          "data": {
            "text/plain": [
              "LogisticRegression(penalty='l1', solver='liblinear')"
            ]
          },
          "metadata": {},
          "execution_count": 37
        }
      ]
    },
    {
      "cell_type": "code",
      "source": [
        "np=nm.predict(x_test_transfomed)"
      ],
      "metadata": {
        "id": "uXcYHRgRaLsO"
      },
      "execution_count": 38,
      "outputs": []
    },
    {
      "cell_type": "code",
      "source": [
        "nm.predict_proba(x_test_transfomed)"
      ],
      "metadata": {
        "colab": {
          "base_uri": "https://localhost:8080/"
        },
        "id": "f50CsOaRaNi1",
        "outputId": "090533c2-56c1-48ca-fb80-7e9600b30d69"
      },
      "execution_count": 39,
      "outputs": [
        {
          "output_type": "execute_result",
          "data": {
            "text/plain": [
              "array([[8.97322688e-04, 3.83304995e-01, 6.15797683e-01],\n",
              "       [4.90219076e-02, 8.21457939e-01, 1.29520154e-01],\n",
              "       [9.58747964e-01, 4.12518207e-02, 2.15439204e-07],\n",
              "       [7.96274657e-05, 2.23984435e-01, 7.75935938e-01],\n",
              "       [8.59769662e-01, 1.40229419e-01, 9.18289170e-07],\n",
              "       [1.47866771e-04, 2.82176370e-01, 7.17675764e-01],\n",
              "       [8.78047979e-01, 1.21951545e-01, 4.75416225e-07],\n",
              "       [1.28206193e-02, 4.06808448e-01, 5.80370933e-01],\n",
              "       [6.09979352e-03, 3.61329547e-01, 6.32570659e-01],\n",
              "       [8.70055746e-02, 7.95660653e-01, 1.17333772e-01],\n",
              "       [5.63905091e-04, 3.69014590e-01, 6.30421505e-01],\n",
              "       [3.17160604e-02, 5.71611044e-01, 3.96672896e-01],\n",
              "       [1.23284270e-02, 5.56550855e-01, 4.31120718e-01],\n",
              "       [1.08543571e-02, 4.76245502e-01, 5.12900141e-01],\n",
              "       [1.10206008e-02, 5.25405949e-01, 4.63573451e-01],\n",
              "       [8.80302721e-01, 1.19696859e-01, 4.19379413e-07],\n",
              "       [1.85802333e-02, 6.16901715e-01, 3.64518052e-01],\n",
              "       [2.34695986e-02, 7.45842175e-01, 2.30688226e-01],\n",
              "       [7.86892379e-01, 2.13106323e-01, 1.29823654e-06],\n",
              "       [9.38286190e-01, 6.17134879e-02, 3.22469409e-07],\n",
              "       [2.48720638e-03, 4.43105564e-01, 5.54407229e-01],\n",
              "       [2.21783631e-02, 6.84221803e-01, 2.93599834e-01],\n",
              "       [8.19062806e-01, 1.80934001e-01, 3.19281620e-06],\n",
              "       [7.28532539e-01, 2.71466299e-01, 1.16214467e-06],\n",
              "       [3.85576531e-03, 4.08027029e-01, 5.88117205e-01],\n",
              "       [8.68519835e-01, 1.31480041e-01, 1.23456806e-07],\n",
              "       [8.92015511e-01, 1.07981987e-01, 2.50136853e-06],\n",
              "       [4.54815791e-02, 7.13566859e-01, 2.40951562e-01],\n",
              "       [2.24518897e-01, 7.67509925e-01, 7.97117780e-03],\n",
              "       [8.50654734e-01, 1.49343592e-01, 1.67388051e-06],\n",
              "       [7.81314503e-04, 2.77287816e-01, 7.21930869e-01],\n",
              "       [2.23041371e-02, 7.08521170e-01, 2.69174693e-01],\n",
              "       [8.88389207e-01, 1.11609964e-01, 8.29197539e-07],\n",
              "       [3.88183566e-03, 3.93823064e-01, 6.02295101e-01],\n",
              "       [2.92859887e-04, 3.20057665e-01, 6.79649475e-01],\n",
              "       [7.89395711e-02, 8.55956410e-01, 6.51040187e-02],\n",
              "       [9.38072118e-01, 6.19265991e-02, 1.28258482e-06],\n",
              "       [1.86064861e-03, 3.95309536e-01, 6.02829816e-01],\n",
              "       [5.43181552e-02, 7.61108484e-01, 1.84573361e-01],\n",
              "       [6.91702509e-02, 8.27746970e-01, 1.03082779e-01],\n",
              "       [4.69922180e-04, 2.42583117e-01, 7.56946961e-01],\n",
              "       [8.12847575e-01, 1.87151827e-01, 5.97664839e-07],\n",
              "       [1.14591535e-03, 2.20181729e-01, 7.78672356e-01],\n",
              "       [8.58756989e-01, 1.41241108e-01, 1.90269246e-06],\n",
              "       [9.20937676e-01, 7.90616860e-02, 6.38323635e-07]])"
            ]
          },
          "metadata": {},
          "execution_count": 39
        }
      ]
    },
    {
      "cell_type": "code",
      "source": [
        "accuracy_score(ytest,np)"
      ],
      "metadata": {
        "colab": {
          "base_uri": "https://localhost:8080/"
        },
        "id": "AQ3IvsT1aP8n",
        "outputId": "85249955-3cc6-40ce-9a5b-4f62b5a4c151"
      },
      "execution_count": 40,
      "outputs": [
        {
          "output_type": "execute_result",
          "data": {
            "text/plain": [
              "0.9111111111111111"
            ]
          },
          "metadata": {},
          "execution_count": 40
        }
      ]
    },
    {
      "cell_type": "code",
      "source": [
        "z=classification_report(ytest,np)"
      ],
      "metadata": {
        "id": "2vKuVpGSaTrv"
      },
      "execution_count": 41,
      "outputs": []
    },
    {
      "cell_type": "code",
      "source": [
        "print(z)"
      ],
      "metadata": {
        "colab": {
          "base_uri": "https://localhost:8080/"
        },
        "id": "QAf9rpk-aV4L",
        "outputId": "0a512cf2-faeb-4391-fe0a-80aaa10194c0"
      },
      "execution_count": 42,
      "outputs": [
        {
          "output_type": "stream",
          "name": "stdout",
          "text": [
            "              precision    recall  f1-score   support\n",
            "\n",
            "           0       1.00      1.00      1.00        16\n",
            "           1       1.00      0.78      0.88        18\n",
            "           2       0.73      1.00      0.85        11\n",
            "\n",
            "    accuracy                           0.91        45\n",
            "   macro avg       0.91      0.93      0.91        45\n",
            "weighted avg       0.93      0.91      0.91        45\n",
            "\n"
          ]
        }
      ]
    },
    {
      "cell_type": "code",
      "source": [
        "confusion_matrix(ytest,pre)"
      ],
      "metadata": {
        "colab": {
          "base_uri": "https://localhost:8080/"
        },
        "id": "T26nzWOGaYKv",
        "outputId": "f10edbc6-4b74-4bfa-b9e1-c28d4d4da1f1"
      },
      "execution_count": 45,
      "outputs": [
        {
          "output_type": "execute_result",
          "data": {
            "text/plain": [
              "array([[16,  0,  0],\n",
              "       [ 0, 17,  1],\n",
              "       [ 0,  0, 11]])"
            ]
          },
          "metadata": {},
          "execution_count": 45
        }
      ]
    },
    {
      "cell_type": "code",
      "source": [
        ""
      ],
      "metadata": {
        "id": "r9j3F6iTaa0u"
      },
      "execution_count": null,
      "outputs": []
    }
  ]
}